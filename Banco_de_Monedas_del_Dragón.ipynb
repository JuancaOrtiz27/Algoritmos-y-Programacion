{
  "nbformat": 4,
  "nbformat_minor": 0,
  "metadata": {
    "colab": {
      "provenance": [],
      "authorship_tag": "ABX9TyOiv+KUunN5Ovd354ALG3Yr",
      "include_colab_link": true
    },
    "kernelspec": {
      "name": "python3",
      "display_name": "Python 3"
    },
    "language_info": {
      "name": "python"
    }
  },
  "cells": [
    {
      "cell_type": "markdown",
      "metadata": {
        "id": "view-in-github",
        "colab_type": "text"
      },
      "source": [
        "<a href=\"https://colab.research.google.com/github/JuancaOrtiz27/Algoritmos-y-Programacion/blob/main/Banco_de_Monedas_del_Drag%C3%B3n.ipynb\" target=\"_parent\"><img src=\"https://colab.research.google.com/assets/colab-badge.svg\" alt=\"Open In Colab\"/></a>"
      ]
    },
    {
      "cell_type": "code",
      "execution_count": 1,
      "metadata": {
        "id": "cytV04-d-HXg",
        "colab": {
          "base_uri": "https://localhost:8080/",
          "height": 721
        },
        "outputId": "7d1e369d-9ac2-4c72-c81b-ad4a0249379d"
      },
      "outputs": [
        {
          "output_type": "stream",
          "name": "stdout",
          "text": [
            "Archivo no encontrado. Iniciando con valores predeterminados.\n",
            "\n",
            "Menú del Banco de Monedas del Dragón:\n",
            "1) Depositar\n",
            "2) Retirar\n",
            "3) Ver total general\n",
            "4) Guardar/Cargar\n",
            "5) Salir\n",
            "6) Ver eventos (extensión)\n",
            "Elige una opción: 1\n",
            "Color del cofre: 1\n",
            "Monto a depositar: 700\n",
            "Depositado 700 en 1.\n",
            "\n",
            "Menú del Banco de Monedas del Dragón:\n",
            "1) Depositar\n",
            "2) Retirar\n",
            "3) Ver total general\n",
            "4) Guardar/Cargar\n",
            "5) Salir\n",
            "6) Ver eventos (extensión)\n"
          ]
        },
        {
          "output_type": "error",
          "ename": "KeyboardInterrupt",
          "evalue": "Interrupted by user",
          "traceback": [
            "\u001b[0;31m---------------------------------------------------------------------------\u001b[0m",
            "\u001b[0;31mKeyboardInterrupt\u001b[0m                         Traceback (most recent call last)",
            "\u001b[0;32m/tmp/ipython-input-4041504559.py\u001b[0m in \u001b[0;36m<cell line: 0>\u001b[0;34m()\u001b[0m\n\u001b[1;32m     74\u001b[0m \u001b[0;34m\u001b[0m\u001b[0m\n\u001b[1;32m     75\u001b[0m     \u001b[0;32mtry\u001b[0m\u001b[0;34m:\u001b[0m\u001b[0;34m\u001b[0m\u001b[0;34m\u001b[0m\u001b[0m\n\u001b[0;32m---> 76\u001b[0;31m         \u001b[0mopcion\u001b[0m \u001b[0;34m=\u001b[0m \u001b[0mint\u001b[0m\u001b[0;34m(\u001b[0m\u001b[0minput\u001b[0m\u001b[0;34m(\u001b[0m\u001b[0;34m\"Elige una opción: \"\u001b[0m\u001b[0;34m)\u001b[0m\u001b[0;34m)\u001b[0m\u001b[0;34m\u001b[0m\u001b[0;34m\u001b[0m\u001b[0m\n\u001b[0m\u001b[1;32m     77\u001b[0m     \u001b[0;32mexcept\u001b[0m \u001b[0mValueError\u001b[0m\u001b[0;34m:\u001b[0m\u001b[0;34m\u001b[0m\u001b[0;34m\u001b[0m\u001b[0m\n\u001b[1;32m     78\u001b[0m         \u001b[0mprint\u001b[0m\u001b[0;34m(\u001b[0m\u001b[0;34m\"Entrada inválida. Debe ser un número.\"\u001b[0m\u001b[0;34m)\u001b[0m\u001b[0;34m\u001b[0m\u001b[0;34m\u001b[0m\u001b[0m\n",
            "\u001b[0;32m/usr/local/lib/python3.12/dist-packages/ipykernel/kernelbase.py\u001b[0m in \u001b[0;36mraw_input\u001b[0;34m(self, prompt)\u001b[0m\n\u001b[1;32m   1175\u001b[0m                 \u001b[0;34m\"raw_input was called, but this frontend does not support input requests.\"\u001b[0m\u001b[0;34m\u001b[0m\u001b[0;34m\u001b[0m\u001b[0m\n\u001b[1;32m   1176\u001b[0m             )\n\u001b[0;32m-> 1177\u001b[0;31m         return self._input_request(\n\u001b[0m\u001b[1;32m   1178\u001b[0m             \u001b[0mstr\u001b[0m\u001b[0;34m(\u001b[0m\u001b[0mprompt\u001b[0m\u001b[0;34m)\u001b[0m\u001b[0;34m,\u001b[0m\u001b[0;34m\u001b[0m\u001b[0;34m\u001b[0m\u001b[0m\n\u001b[1;32m   1179\u001b[0m             \u001b[0mself\u001b[0m\u001b[0;34m.\u001b[0m\u001b[0m_parent_ident\u001b[0m\u001b[0;34m[\u001b[0m\u001b[0;34m\"shell\"\u001b[0m\u001b[0;34m]\u001b[0m\u001b[0;34m,\u001b[0m\u001b[0;34m\u001b[0m\u001b[0;34m\u001b[0m\u001b[0m\n",
            "\u001b[0;32m/usr/local/lib/python3.12/dist-packages/ipykernel/kernelbase.py\u001b[0m in \u001b[0;36m_input_request\u001b[0;34m(self, prompt, ident, parent, password)\u001b[0m\n\u001b[1;32m   1217\u001b[0m             \u001b[0;32mexcept\u001b[0m \u001b[0mKeyboardInterrupt\u001b[0m\u001b[0;34m:\u001b[0m\u001b[0;34m\u001b[0m\u001b[0;34m\u001b[0m\u001b[0m\n\u001b[1;32m   1218\u001b[0m                 \u001b[0;31m# re-raise KeyboardInterrupt, to truncate traceback\u001b[0m\u001b[0;34m\u001b[0m\u001b[0;34m\u001b[0m\u001b[0m\n\u001b[0;32m-> 1219\u001b[0;31m                 \u001b[0;32mraise\u001b[0m \u001b[0mKeyboardInterrupt\u001b[0m\u001b[0;34m(\u001b[0m\u001b[0;34m\"Interrupted by user\"\u001b[0m\u001b[0;34m)\u001b[0m \u001b[0;32mfrom\u001b[0m \u001b[0;32mNone\u001b[0m\u001b[0;34m\u001b[0m\u001b[0;34m\u001b[0m\u001b[0m\n\u001b[0m\u001b[1;32m   1220\u001b[0m             \u001b[0;32mexcept\u001b[0m \u001b[0mException\u001b[0m\u001b[0;34m:\u001b[0m\u001b[0;34m\u001b[0m\u001b[0;34m\u001b[0m\u001b[0m\n\u001b[1;32m   1221\u001b[0m                 \u001b[0mself\u001b[0m\u001b[0;34m.\u001b[0m\u001b[0mlog\u001b[0m\u001b[0;34m.\u001b[0m\u001b[0mwarning\u001b[0m\u001b[0;34m(\u001b[0m\u001b[0;34m\"Invalid Message:\"\u001b[0m\u001b[0;34m,\u001b[0m \u001b[0mexc_info\u001b[0m\u001b[0;34m=\u001b[0m\u001b[0;32mTrue\u001b[0m\u001b[0;34m)\u001b[0m\u001b[0;34m\u001b[0m\u001b[0;34m\u001b[0m\u001b[0m\n",
            "\u001b[0;31mKeyboardInterrupt\u001b[0m: Interrupted by user"
          ]
        }
      ],
      "source": [
        "#Banco de Monedas del Dragón\n",
        "#Autor: Juan Carlos Ortiz\n",
        "import json\n",
        "import datetime\n",
        "\n",
        "# Función para depositar monedas\n",
        "def depositar(tesoro, color, monto, events):\n",
        "    if monto <= 0:\n",
        "        print(\"El monto debe ser mayor que 0.\")\n",
        "        return\n",
        "    if color in tesoro:\n",
        "        tesoro[color] += monto\n",
        "    else:\n",
        "        tesoro[color] = monto\n",
        "    events.append({\n",
        "        \"fecha\": datetime.datetime.now().isoformat(),\n",
        "        \"accion\": \"deposito\",\n",
        "        \"color\": color,\n",
        "        \"monto\": monto\n",
        "    })\n",
        "    print(f\"Depositado {monto} en {color}.\")\n",
        "\n",
        "# Función para retirar monedas\n",
        "def retirar(tesoro, color, monto, events):\n",
        "    if monto <= 0:\n",
        "        print(\"El monto debe ser mayor que 0.\")\n",
        "        return\n",
        "    if color not in tesoro or tesoro[color] < monto:\n",
        "        print(\"No se puede retirar: saldo insuficiente o color no existe.\")\n",
        "        return\n",
        "    tesoro[color] -= monto\n",
        "    events.append({\n",
        "        \"fecha\": datetime.datetime.now().isoformat(),\n",
        "        \"accion\": \"retiro\",\n",
        "        \"color\": color,\n",
        "        \"monto\": monto\n",
        "    })\n",
        "    print(f\"Retirado {monto} de {color}.\")\n",
        "\n",
        "# Función para calcular el total general\n",
        "def total_general(tesoro):\n",
        "    return sum(tesoro.values())\n",
        "\n",
        "# Función para guardar el tesoro en JSON\n",
        "def guardar(tesoro):\n",
        "    with open('tesoro.json', 'w') as f:\n",
        "        json.dump(tesoro, f)\n",
        "    print(\"Tesoro guardado en tesoro.json.\")\n",
        "\n",
        "# Función para cargar el tesoro desde JSON\n",
        "def cargar():\n",
        "    try:\n",
        "        with open('tesoro.json', 'r') as f:\n",
        "            return json.load(f)\n",
        "    except FileNotFoundError:\n",
        "        print(\"Archivo no encontrado. Iniciando con valores predeterminados.\")\n",
        "        return {\"rojo\": 120, \"azul\": 85}\n",
        "    except json.JSONDecodeError:\n",
        "        print(\"Error al leer el archivo. Iniciando con valores predeterminados.\")\n",
        "        return {\"rojo\": 120, \"azul\": 85}\n",
        "\n",
        "# Programa principal\n",
        "tesoro = cargar()\n",
        "events = []  # Lista de eventos para la extensión\n",
        "\n",
        "while True:\n",
        "    print(\"\\nMenú del Banco de Monedas del Dragón:\")\n",
        "    print(\"1) Depositar\")\n",
        "    print(\"2) Retirar\")\n",
        "    print(\"3) Mostrar Total General\")\n",
        "    print(\"4) Guardar Tesoro\")\n",
        "    print(\"5) Salir\")\n",
        "\n",
        "    opcion = input(\"Ingrese una opción: \")\n",
        "\n",
        "    if opcion == \"1\":\n",
        "        color = input(\"Ingrese el color de la moneda: \")\n",
        "        monto = int(input(\"Ingrese el monto a depositar: \"))\n",
        "        depositar(tesoro, color, monto, events)\n",
        "    elif opcion == \"2\":\n",
        "        color = input(\"Ingrese el color de la moneda: \")\n",
        "        monto = int(input(\"Ingrese el monto a retirar: \"))\n",
        "        retirar(tesoro, color, monto, events)\n",
        "    elif opcion == \"3\":\n",
        "        print(f\"Total general en el tesoro: {total_general(tesoro)}\")\n",
        "    elif opcion == \"4\":\n",
        "        guardar(tesoro)\n",
        "    elif opcion == \"5\":\n",
        "        guardar(tesoro)  # Guardar antes de salir\n",
        "        print(\"Saliendo del programa.\")\n",
        "        break\n",
        "    else:\n",
        "        print(\"Opción no válida. Intente de nuevo.\")"
      ]
    }
  ]
}